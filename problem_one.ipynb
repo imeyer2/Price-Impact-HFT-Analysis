{
 "cells": [
  {
   "cell_type": "code",
   "execution_count": 2,
   "metadata": {},
   "outputs": [],
   "source": [
    "import numpy as np\n",
    "import pandas as pd\n",
    "import matplotlib.pyplot as plt"
   ]
  },
  {
   "cell_type": "markdown",
   "metadata": {},
   "source": [
    "The data is given to us in MBO and MBP-1 formats\n",
    "which are table schema\n",
    "\n",
    "https://databento.com/docs/schemas-and-data-formats/whats-a-schema?historical=python&live=python&reference=python\n",
    "\n",
    "## Solution\n",
    "In section 2.2 we will implement the formula for $I_t$\n"
   ]
  },
  {
   "cell_type": "code",
   "execution_count": 34,
   "metadata": {},
   "outputs": [
    {
     "data": {
      "text/html": [
       "<div>\n",
       "<style scoped>\n",
       "    .dataframe tbody tr th:only-of-type {\n",
       "        vertical-align: middle;\n",
       "    }\n",
       "\n",
       "    .dataframe tbody tr th {\n",
       "        vertical-align: top;\n",
       "    }\n",
       "\n",
       "    .dataframe thead th {\n",
       "        text-align: right;\n",
       "    }\n",
       "</style>\n",
       "<table border=\"1\" class=\"dataframe\">\n",
       "  <thead>\n",
       "    <tr style=\"text-align: right;\">\n",
       "      <th></th>\n",
       "      <th>time</th>\n",
       "      <th>ts_event</th>\n",
       "      <th>bid_fill</th>\n",
       "      <th>ask_fill</th>\n",
       "      <th>Signed Volume</th>\n",
       "      <th>price</th>\n",
       "      <th>best_bid</th>\n",
       "      <th>best_ask</th>\n",
       "      <th>mid_price</th>\n",
       "    </tr>\n",
       "  </thead>\n",
       "  <tbody>\n",
       "    <tr>\n",
       "      <th>0</th>\n",
       "      <td>0</td>\n",
       "      <td>2024-10-22 08:00:00</td>\n",
       "      <td>801.0</td>\n",
       "      <td>1999.0</td>\n",
       "      <td>-1198.0</td>\n",
       "      <td>236.14</td>\n",
       "      <td>235.83</td>\n",
       "      <td>236.14</td>\n",
       "      <td>235.985</td>\n",
       "    </tr>\n",
       "    <tr>\n",
       "      <th>1</th>\n",
       "      <td>1</td>\n",
       "      <td>2024-10-22 08:00:01</td>\n",
       "      <td>201.0</td>\n",
       "      <td>202.0</td>\n",
       "      <td>-1.0</td>\n",
       "      <td>236.13</td>\n",
       "      <td>235.83</td>\n",
       "      <td>236.13</td>\n",
       "      <td>235.980</td>\n",
       "    </tr>\n",
       "    <tr>\n",
       "      <th>2</th>\n",
       "      <td>2</td>\n",
       "      <td>2024-10-22 08:00:02</td>\n",
       "      <td>1600.0</td>\n",
       "      <td>1400.0</td>\n",
       "      <td>200.0</td>\n",
       "      <td>235.83</td>\n",
       "      <td>235.83</td>\n",
       "      <td>236.11</td>\n",
       "      <td>235.970</td>\n",
       "    </tr>\n",
       "    <tr>\n",
       "      <th>3</th>\n",
       "      <td>3</td>\n",
       "      <td>2024-10-22 08:00:03</td>\n",
       "      <td>534.0</td>\n",
       "      <td>400.0</td>\n",
       "      <td>134.0</td>\n",
       "      <td>236.10</td>\n",
       "      <td>235.96</td>\n",
       "      <td>236.10</td>\n",
       "      <td>236.030</td>\n",
       "    </tr>\n",
       "    <tr>\n",
       "      <th>4</th>\n",
       "      <td>4</td>\n",
       "      <td>2024-10-22 08:00:04</td>\n",
       "      <td>400.0</td>\n",
       "      <td>502.0</td>\n",
       "      <td>-102.0</td>\n",
       "      <td>236.11</td>\n",
       "      <td>235.96</td>\n",
       "      <td>236.11</td>\n",
       "      <td>236.035</td>\n",
       "    </tr>\n",
       "  </tbody>\n",
       "</table>\n",
       "</div>"
      ],
      "text/plain": [
       "   time             ts_event  bid_fill  ask_fill  Signed Volume   price  \\\n",
       "0     0  2024-10-22 08:00:00     801.0    1999.0        -1198.0  236.14   \n",
       "1     1  2024-10-22 08:00:01     201.0     202.0           -1.0  236.13   \n",
       "2     2  2024-10-22 08:00:02    1600.0    1400.0          200.0  235.83   \n",
       "3     3  2024-10-22 08:00:03     534.0     400.0          134.0  236.10   \n",
       "4     4  2024-10-22 08:00:04     400.0     502.0         -102.0  236.11   \n",
       "\n",
       "   best_bid  best_ask  mid_price  \n",
       "0    235.83    236.14    235.985  \n",
       "1    235.83    236.13    235.980  \n",
       "2    235.83    236.11    235.970  \n",
       "3    235.96    236.10    236.030  \n",
       "4    235.96    236.11    236.035  "
      ]
     },
     "execution_count": 34,
     "metadata": {},
     "output_type": "execute_result"
    }
   ],
   "source": [
    "df = pd.read_csv(\"merged_data.csv\")\n",
    "# Add a second offset column\n",
    "df = df.reset_index(names=\"time\")\n",
    "df.head(5)"
   ]
  },
  {
   "cell_type": "markdown",
   "metadata": {},
   "source": [
    "## Since we are not working with a smooth strategy (the data incidates that Q(t) is a step function) \n",
    "the integral\n",
    "$J^n_t = \\int_0^t K_n(t-s) \\, dQ_s$ becomes a finite sum \n",
    "\n",
    "$J^n_t = \\sum_{s_i < t} K_n(t-s_i)\\cdot \\Delta Q_{s_i}$\n",
    "\n",
    "where \n",
    "- $t$ fixed in the future\n",
    "- $s_i$ are the times (`ts_event`) earlier than $t$\n",
    "- $\\Delta Q_{s_i} = Q_{s_i} - Q_{s_{i-1}}$ where we set $Q_{0} = 0$ . Example: $Q_{1} = -1198$ and $Q_{3} = -999$"
   ]
  },
  {
   "cell_type": "markdown",
   "metadata": {},
   "source": [
    "#### Calculate $J^n_t$"
   ]
  },
  {
   "cell_type": "code",
   "execution_count": 35,
   "metadata": {},
   "outputs": [],
   "source": [
    "class OWModel:\n",
    "    def __init__(self):\n",
    "        pass\n",
    "\n",
    "    def h_func(self, x : float, lamb : float = 1.0) -> float:\n",
    "        return lamb * x\n",
    "    \n",
    "    def K_func(self, t : float, beta : float = 1.0) -> float:\n",
    "        return np.exp(-1 * beta * t)\n",
    "    \n",
    "\n",
    "class AFSModel:\n",
    "    def __init__(self):\n",
    "        pass\n",
    "\n",
    "    def h_func(self, x : float, lamb : float, p : float) -> float:\n",
    "        return np.sign(x) * lamb * np.abs(x)**p\n",
    "    \n",
    "    def K_func(self, t : float, beta : float = 1.0) -> float:\n",
    "        return np.exp(-1 * beta * t)"
   ]
  },
  {
   "cell_type": "code",
   "execution_count": 76,
   "metadata": {},
   "outputs": [],
   "source": [
    "def generate_price_impact_t(current_time : int, df = df, lamb = 1, beta = 1):\n",
    "    assert current_time in df['time']\n",
    "\n",
    "    copy_df = df.copy()\n",
    "\n",
    "    ow= OWModel()\n",
    "\n",
    "    copy_df['K_vals'] = copy_df[['time']].apply(lambda row: ow.K_func(t = current_time - row[0], beta=beta), axis = 1) \n",
    "    copy_df['J_vals'] = copy_df['K_vals'].cumsum()\n",
    "\n",
    "\n",
    "    subset = copy_df[copy_df['time'] <= current_time]\n",
    "\n",
    "    subset[\"h(J)\"] = subset[['J_vals']].apply(lambda row: ow.h_func(x = row[0], lamb=lamb), axis = 1)\n",
    "\n",
    "\n",
    "    # subset['I_t'] = subset['h(J)'].cumsum()\n",
    "\n",
    "\n",
    "    return subset\n",
    "\n",
    "\n",
    "\n",
    "\n",
    "\n",
    "\n"
   ]
  },
  {
   "cell_type": "code",
   "execution_count": 77,
   "metadata": {},
   "outputs": [
    {
     "name": "stderr",
     "output_type": "stream",
     "text": [
      "/var/folders/nh/m91qpv214t9b8xssz75rnw580000gn/T/ipykernel_4414/852906398.py:8: FutureWarning: Series.__getitem__ treating keys as positions is deprecated. In a future version, integer keys will always be treated as labels (consistent with DataFrame behavior). To access a value by position, use `ser.iloc[pos]`\n",
      "  copy_df['K_vals'] = copy_df[['time']].apply(lambda row: ow.K_func(t = current_time - row[0], beta=beta), axis = 1)\n",
      "/var/folders/nh/m91qpv214t9b8xssz75rnw580000gn/T/ipykernel_4414/3344596577.py:9: RuntimeWarning: overflow encountered in exp\n",
      "  return np.exp(-1 * beta * t)\n",
      "/Users/80095022/Desktop/blockhouse_work_trial/paper/lib/python3.13/site-packages/numpy/_core/fromnumeric.py:57: RuntimeWarning: overflow encountered in accumulate\n",
      "  return bound(*args, **kwds)\n",
      "/var/folders/nh/m91qpv214t9b8xssz75rnw580000gn/T/ipykernel_4414/852906398.py:14: FutureWarning: Series.__getitem__ treating keys as positions is deprecated. In a future version, integer keys will always be treated as labels (consistent with DataFrame behavior). To access a value by position, use `ser.iloc[pos]`\n",
      "  subset[\"h(J)\"] = subset[['J_vals']].apply(lambda row: ow.h_func(x = row[0], lamb=lamb), axis = 1)\n",
      "/var/folders/nh/m91qpv214t9b8xssz75rnw580000gn/T/ipykernel_4414/852906398.py:14: SettingWithCopyWarning: \n",
      "A value is trying to be set on a copy of a slice from a DataFrame.\n",
      "Try using .loc[row_indexer,col_indexer] = value instead\n",
      "\n",
      "See the caveats in the documentation: https://pandas.pydata.org/pandas-docs/stable/user_guide/indexing.html#returning-a-view-versus-a-copy\n",
      "  subset[\"h(J)\"] = subset[['J_vals']].apply(lambda row: ow.h_func(x = row[0], lamb=lamb), axis = 1)\n"
     ]
    }
   ],
   "source": [
    "test = generate_price_impact_t(50, df = df, lamb=1, beta=0.1)"
   ]
  },
  {
   "cell_type": "code",
   "execution_count": 78,
   "metadata": {},
   "outputs": [
    {
     "data": {
      "text/plain": [
       "<Axes: xlabel='Time', ylabel='Price impact'>"
      ]
     },
     "execution_count": 78,
     "metadata": {},
     "output_type": "execute_result"
    },
    {
     "data": {
      "image/png": "[encoded data removed]",
      "text/plain": [
       "<Figure size 640x480 with 1 Axes>"
      ]
     },
     "metadata": {},
     "output_type": "display_data"
    }
   ],
   "source": [
    "test[['h(J)']].plot(kind = 'line', use_index=True, xlabel=\"Time\", ylabel=\"Price impact\")"
   ]
  },
  {
   "cell_type": "code",
   "execution_count": 79,
   "metadata": {},
   "outputs": [],
   "source": [
    "def generate_price_impact_t_AFS(current_time : int, df = df, lamb = 1, beta = 1, p = 1):\n",
    "    assert current_time in df['time']\n",
    "\n",
    "    copy_df = df.copy()\n",
    "\n",
    "    ow= AFSModel()\n",
    "\n",
    "    copy_df['K_vals'] = copy_df[['time']].apply(lambda row: ow.K_func(t = current_time - row[0], beta=beta), axis = 1) \n",
    "    copy_df['J_vals'] = copy_df['K_vals'].cumsum()\n",
    "\n",
    "    subset = copy_df[copy_df['time'] <= current_time]\n",
    "\n",
    "    subset[\"h(J)\"] = subset[['J_vals']].apply(lambda row: ow.h_func(x = row[0], lamb=lamb, p =p), axis = 1)\n",
    "\n",
    "\n",
    "    # subset['I_t'] = subset['h(J)'].cumsum()\n",
    "\n",
    "\n",
    "    return subset\n",
    "\n",
    "\n",
    "\n",
    "\n",
    "\n",
    "\n"
   ]
  },
  {
   "cell_type": "code",
   "execution_count": 82,
   "metadata": {},
   "outputs": [
    {
     "name": "stderr",
     "output_type": "stream",
     "text": [
      "/var/folders/nh/m91qpv214t9b8xssz75rnw580000gn/T/ipykernel_4414/23216938.py:8: FutureWarning: Series.__getitem__ treating keys as positions is deprecated. In a future version, integer keys will always be treated as labels (consistent with DataFrame behavior). To access a value by position, use `ser.iloc[pos]`\n",
      "  copy_df['K_vals'] = copy_df[['time']].apply(lambda row: ow.K_func(t = current_time - row[0], beta=beta), axis = 1)\n",
      "/var/folders/nh/m91qpv214t9b8xssz75rnw580000gn/T/ipykernel_4414/3344596577.py:20: RuntimeWarning: overflow encountered in exp\n",
      "  return np.exp(-1 * beta * t)\n",
      "/Users/80095022/Desktop/blockhouse_work_trial/paper/lib/python3.13/site-packages/numpy/_core/fromnumeric.py:57: RuntimeWarning: overflow encountered in accumulate\n",
      "  return bound(*args, **kwds)\n",
      "/var/folders/nh/m91qpv214t9b8xssz75rnw580000gn/T/ipykernel_4414/23216938.py:13: FutureWarning: Series.__getitem__ treating keys as positions is deprecated. In a future version, integer keys will always be treated as labels (consistent with DataFrame behavior). To access a value by position, use `ser.iloc[pos]`\n",
      "  subset[\"h(J)\"] = subset[['J_vals']].apply(lambda row: ow.h_func(x = row[0], lamb=lamb, p =p), axis = 1)\n",
      "/var/folders/nh/m91qpv214t9b8xssz75rnw580000gn/T/ipykernel_4414/23216938.py:13: SettingWithCopyWarning: \n",
      "A value is trying to be set on a copy of a slice from a DataFrame.\n",
      "Try using .loc[row_indexer,col_indexer] = value instead\n",
      "\n",
      "See the caveats in the documentation: https://pandas.pydata.org/pandas-docs/stable/user_guide/indexing.html#returning-a-view-versus-a-copy\n",
      "  subset[\"h(J)\"] = subset[['J_vals']].apply(lambda row: ow.h_func(x = row[0], lamb=lamb, p =p), axis = 1)\n"
     ]
    },
    {
     "data": {
      "text/plain": [
       "<Axes: xlabel='Time', ylabel='Price impact'>"
      ]
     },
     "execution_count": 82,
     "metadata": {},
     "output_type": "execute_result"
    },
    {
     "data": {
      "image/png": "[encoded data removed]",
      "text/plain": [
       "<Figure size 640x480 with 1 Axes>"
      ]
     },
     "metadata": {},
     "output_type": "display_data"
    }
   ],
   "source": [
    "test2 = generate_price_impact_t_AFS(current_time = 50, df = df, lamb = 1, beta = 0.1, p = 2)\n",
    "test2[['h(J)']].plot(kind = 'line', use_index=True, xlabel=\"Time\", ylabel=\"Price impact\")"
   ]
  },
  {
   "cell_type": "code",
   "execution_count": null,
   "metadata": {},
   "outputs": [],
   "source": []
  }
 ],
 "metadata": {
  "kernelspec": {
   "display_name": "paper",
   "language": "python",
   "name": "python3"
  },
  "language_info": {
   "codemirror_mode": {
    "name": "ipython",
    "version": 3
   },
   "file_extension": ".py",
   "mimetype": "text/x-python",
   "name": "python",
   "nbconvert_exporter": "python",
   "pygments_lexer": "ipython3",
   "version": "3.13.1"
  }
 },
 "nbformat": 4,
 "nbformat_minor": 2
}
